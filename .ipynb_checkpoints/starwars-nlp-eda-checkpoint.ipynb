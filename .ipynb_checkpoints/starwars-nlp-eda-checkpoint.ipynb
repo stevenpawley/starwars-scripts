{
 "cells": [
  {
   "cell_type": "code",
   "execution_count": 33,
   "id": "2fc0954a-8230-40bc-a03f-32d2dc9314a9",
   "metadata": {},
   "outputs": [
    {
     "name": "stderr",
     "output_type": "stream",
     "text": [
      "[nltk_data] Downloading package wordnet to /Users/steven/nltk_data...\n",
      "[nltk_data]   Unzipping corpora/wordnet.zip.\n"
     ]
    },
    {
     "data": {
      "text/plain": [
       "True"
      ]
     },
     "execution_count": 33,
     "metadata": {},
     "output_type": "execute_result"
    }
   ],
   "source": [
    "import os\n",
    "import pandas as pd\n",
    "import nltk\n",
    "\n",
    "nltk.download('wordnet')"
   ]
  },
  {
   "cell_type": "code",
   "execution_count": 34,
   "id": "78c9fbe8-6f5d-4dc0-81de-ea981727eea5",
   "metadata": {},
   "outputs": [],
   "source": [
    "newhope = \"data/SW_EpisodeIV.txt\"\n",
    "empire = \"data/SW_EpisodeV.txt\"\n",
    "jedi = \"data/SW_EpisodeVI.txt\""
   ]
  },
  {
   "cell_type": "code",
   "execution_count": 153,
   "id": "8b952916-6d5d-49cf-afc9-505386fcc6e8",
   "metadata": {},
   "outputs": [
    {
     "data": {
      "text/html": [
       "<div>\n",
       "<style scoped>\n",
       "    .dataframe tbody tr th:only-of-type {\n",
       "        vertical-align: middle;\n",
       "    }\n",
       "\n",
       "    .dataframe tbody tr th {\n",
       "        vertical-align: top;\n",
       "    }\n",
       "\n",
       "    .dataframe thead th {\n",
       "        text-align: right;\n",
       "    }\n",
       "</style>\n",
       "<table border=\"1\" class=\"dataframe\">\n",
       "  <thead>\n",
       "    <tr style=\"text-align: right;\">\n",
       "      <th></th>\n",
       "      <th>line</th>\n",
       "      <th>actor</th>\n",
       "      <th>words</th>\n",
       "    </tr>\n",
       "  </thead>\n",
       "  <tbody>\n",
       "    <tr>\n",
       "      <th>0</th>\n",
       "      <td>1</td>\n",
       "      <td>THREEPIO</td>\n",
       "      <td>Did you hear that?  They've shut down the main...</td>\n",
       "    </tr>\n",
       "    <tr>\n",
       "      <th>1</th>\n",
       "      <td>2</td>\n",
       "      <td>THREEPIO</td>\n",
       "      <td>We're doomed!</td>\n",
       "    </tr>\n",
       "    <tr>\n",
       "      <th>2</th>\n",
       "      <td>3</td>\n",
       "      <td>THREEPIO</td>\n",
       "      <td>There'll be no escape for the Princess this time.</td>\n",
       "    </tr>\n",
       "    <tr>\n",
       "      <th>3</th>\n",
       "      <td>4</td>\n",
       "      <td>THREEPIO</td>\n",
       "      <td>What's that?</td>\n",
       "    </tr>\n",
       "    <tr>\n",
       "      <th>4</th>\n",
       "      <td>5</td>\n",
       "      <td>THREEPIO</td>\n",
       "      <td>I should have known better than to trust the l...</td>\n",
       "    </tr>\n",
       "  </tbody>\n",
       "</table>\n",
       "</div>"
      ],
      "text/plain": [
       "  line     actor                                              words\n",
       "0    1  THREEPIO  Did you hear that?  They've shut down the main...\n",
       "1    2  THREEPIO                                      We're doomed!\n",
       "2    3  THREEPIO  There'll be no escape for the Princess this time.\n",
       "3    4  THREEPIO                                       What's that?\n",
       "4    5  THREEPIO  I should have known better than to trust the l..."
      ]
     },
     "execution_count": 153,
     "metadata": {},
     "output_type": "execute_result"
    }
   ],
   "source": [
    "def converter(x):\n",
    "    return x.strip().replace('\"', \"\")\n",
    "\n",
    "converters = {\"line\": converter, \n",
    "              \"actor\": converter, \n",
    "              \"words\": converter}\n",
    "\n",
    "newhope = pd.read_table(\"data/SW_EpisodeIV.txt\", sep=\" \", skiprows=1, \n",
    "                        names=[\"line\", \"actor\", \"words\"], converters=converters)\n",
    "empire = pd.read_table(\"data/SW_EpisodeV.txt\", sep=\" \", skiprows=1, \n",
    "                       names=[\"line\", \"actor\", \"words\"], converters=converters)\n",
    "jedi = pd.read_table(\"data/SW_EpisodeVI.txt\", sep=\" \", skiprows=1, \n",
    "                     names=[\"line\", \"actor\", \"words\"], converters=converters)\n",
    "\n",
    "newhope.head()"
   ]
  },
  {
   "cell_type": "code",
   "execution_count": 154,
   "id": "627c2912-3ace-4288-9df0-f7b8b69c841b",
   "metadata": {},
   "outputs": [],
   "source": [
    "from nltk.tokenize import SpaceTokenizer, PunktSentenceTokenizer\n",
    "\n",
    "sentence_tok = PunktSentenceTokenizer()\n",
    "\n",
    "newhope = newhope.merge(\n",
    "    newhope.words.apply(sentence_tok.tokenize).explode(), \n",
    "    left_index=True, \n",
    "    right_index=True\n",
    ")\n",
    "newhope = newhope.rename(columns={\"words_x\": \"lines\", \"words_y\": \"sentences\"})\n",
    "\n",
    "empire = empire.merge(\n",
    "    empire.words.apply(sentence_tok.tokenize).explode(), \n",
    "    left_index=True, \n",
    "    right_index=True\n",
    ")\n",
    "empire = empire.rename(columns={\"words_x\": \"lines\", \"words_y\": \"sentences\"})\n",
    "\n",
    "jedi = jedi.merge(\n",
    "    jedi.words.apply(sentence_tok.tokenize).explode(), \n",
    "    left_index=True, \n",
    "    right_index=True\n",
    ")\n",
    "jedi = jedi.rename(columns={\"words_x\": \"lines\", \"words_y\": \"sentences\"})"
   ]
  },
  {
   "cell_type": "code",
   "execution_count": 157,
   "id": "143af8a8-f28b-4f5c-8eb5-199e1731d6a7",
   "metadata": {},
   "outputs": [],
   "source": [
    "tokenizer = SpaceTokenizer()\n",
    "\n",
    "newhope = newhope.merge(\n",
    "    newhope.sentences.apply(tokenizer.tokenize).explode(), \n",
    "    left_index=True, \n",
    "    right_index=True\n",
    ")\n",
    "newhope = newhope.rename(columns={\"sentences_x\": \"sentences\", \"sentences_y\": \"tokens\"})\n",
    "\n",
    "empire = empire.merge(\n",
    "    empire.sentences.apply(tokenizer.tokenize).explode(), \n",
    "    left_index=True, \n",
    "    right_index=True\n",
    ")\n",
    "empire = empire.rename(columns={\"sentences_x\": \"sentences\", \"sentences_y\": \"tokens\"})\n",
    "\n",
    "jedi = jedi.merge(\n",
    "    jedi.sentences.apply(tokenizer.tokenize).explode(), \n",
    "    left_index=True, \n",
    "    right_index=True\n",
    ")\n",
    "jedi = jedi.rename(columns={\"sentences_x\": \"sentences\", \"sentences_y\": \"tokens\"})"
   ]
  },
  {
   "cell_type": "code",
   "execution_count": 162,
   "id": "ca8c9156-20cf-4f9c-887c-75a703f62c6d",
   "metadata": {},
   "outputs": [],
   "source": [
    "from nltk.stem import WordNetLemmatizer\n",
    "\n",
    "lemmatizer = WordNetLemmatizer()\n",
    "\n",
    "newhope[\"tokens\"] = newhope.tokens.apply(str.lower).apply(lemmatizer.lemmatize)\n",
    "empire[\"tokens\"] = empire.tokens.apply(str.lower).apply(lemmatizer.lemmatize)\n",
    "jedi[\"tokens\"] = jedi.tokens.apply(str.lower).apply(lemmatizer.lemmatize)"
   ]
  },
  {
   "cell_type": "code",
   "execution_count": 168,
   "id": "b823d3cd-5616-4919-8969-510c180bb975",
   "metadata": {},
   "outputs": [
    {
     "name": "stderr",
     "output_type": "stream",
     "text": [
      "[nltk_data] Downloading package stopwords to\n",
      "[nltk_data]     /Users/steven/nltk_data...\n",
      "[nltk_data]   Package stopwords is already up-to-date!\n"
     ]
    },
    {
     "data": {
      "text/plain": [
       "0           did\n",
       "0           you\n",
       "0          hear\n",
       "0         that?\n",
       "0       they've\n",
       "         ...   \n",
       "1008      them.\n",
       "1009      he'll\n",
       "1009         be\n",
       "1009        all\n",
       "1009     right.\n",
       "Length: 26717, dtype: object"
      ]
     },
     "execution_count": 168,
     "metadata": {},
     "output_type": "execute_result"
    }
   ],
   "source": [
    "from nltk.corpus import stopwords\n",
    "nltk.download('stopwords')\n",
    "\n",
    "stopwords = set(stopwords.words(\"english\"))\n",
    "newhope.apply(lambda x: x.tokens, axis=1)\n",
    "\n"
   ]
  },
  {
   "cell_type": "code",
   "execution_count": 84,
   "id": "d1559744-0709-4b87-b214-d0f48ece0773",
   "metadata": {},
   "outputs": [
    {
     "name": "stderr",
     "output_type": "stream",
     "text": [
      "[nltk_data] Downloading package stopwords to\n",
      "[nltk_data]     /Users/steven/nltk_data...\n",
      "[nltk_data]   Package stopwords is already up-to-date!\n"
     ]
    },
    {
     "data": {
      "text/plain": [
       "{'Did', 'hear', 'that?'}"
      ]
     },
     "execution_count": 84,
     "metadata": {},
     "output_type": "execute_result"
    }
   ],
   "source": [
    "from nltk.corpus import stopwords\n",
    "nltk.download('stopwords')\n",
    "\n",
    "stopwords = set(stopwords.words(\"english\"))\n",
    "tokens = set(tokens)\n",
    "\n",
    "tokens.difference(stopwords)"
   ]
  },
  {
   "cell_type": "code",
   "execution_count": null,
   "id": "f9472653-af5e-47d7-ada0-f0efd1f914a6",
   "metadata": {},
   "outputs": [],
   "source": []
  }
 ],
 "metadata": {
  "kernelspec": {
   "display_name": "Python 3 (ipykernel)",
   "language": "python",
   "name": "python3"
  },
  "language_info": {
   "codemirror_mode": {
    "name": "ipython",
    "version": 3
   },
   "file_extension": ".py",
   "mimetype": "text/x-python",
   "name": "python",
   "nbconvert_exporter": "python",
   "pygments_lexer": "ipython3",
   "version": "3.9.6"
  }
 },
 "nbformat": 4,
 "nbformat_minor": 5
}
